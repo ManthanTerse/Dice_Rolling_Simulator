{
 "cells": [
  {
   "cell_type": "markdown",
   "id": "56f334b4-3de7-4c39-b140-126ccb20351a",
   "metadata": {},
   "source": [
    "Project 06 : Dice Roll Simulator"
   ]
  },
  {
   "cell_type": "code",
   "execution_count": 1,
   "id": "3e4e9200-9bde-4366-b1b9-b93d96c6b96c",
   "metadata": {},
   "outputs": [],
   "source": [
    "import random"
   ]
  },
  {
   "cell_type": "code",
   "execution_count": 2,
   "id": "a60ec219-df43-41e5-9730-543f6feceed5",
   "metadata": {},
   "outputs": [],
   "source": [
    "def roll_dice():\n",
    "    return random.randint(1, 6)"
   ]
  },
  {
   "cell_type": "code",
   "execution_count": 3,
   "id": "7c7dd104-a57b-46bc-98f7-fba64d66d766",
   "metadata": {},
   "outputs": [
    {
     "name": "stdout",
     "output_type": "stream",
     "text": [
      "Dice Rolling Simulator!\n"
     ]
    },
    {
     "name": "stdin",
     "output_type": "stream",
     "text": [
      "Press Enter to roll the dice... \n"
     ]
    },
    {
     "name": "stdout",
     "output_type": "stream",
     "text": [
      " You rolled a 1!\n",
      "\n"
     ]
    },
    {
     "name": "stdin",
     "output_type": "stream",
     "text": [
      "Roll again? (0/1):  1\n",
      "Press Enter to roll the dice... \n"
     ]
    },
    {
     "name": "stdout",
     "output_type": "stream",
     "text": [
      " You rolled a 6!\n",
      "\n"
     ]
    },
    {
     "name": "stdin",
     "output_type": "stream",
     "text": [
      "Roll again? (0/1):  1\n",
      "Press Enter to roll the dice... \n"
     ]
    },
    {
     "name": "stdout",
     "output_type": "stream",
     "text": [
      " You rolled a 5!\n",
      "\n"
     ]
    },
    {
     "name": "stdin",
     "output_type": "stream",
     "text": [
      "Roll again? (0/1):  0\n"
     ]
    },
    {
     "name": "stdout",
     "output_type": "stream",
     "text": [
      "Thanks for playing!\n"
     ]
    }
   ],
   "source": [
    "def main():\n",
    "    print(\"Dice Rolling Simulator!\")\n",
    "    while True:\n",
    "        input(\"Press Enter to roll the dice...\")\n",
    "        dice = roll_dice()\n",
    "        print(f\" You rolled a {dice}!\\n\")\n",
    "\n",
    "        again = input(\"Roll again? (0/1): \")\n",
    "        if again != '1':\n",
    "            print(\"Thanks for playing!\")\n",
    "            break\n",
    "\n",
    "if __name__ == \"__main__\":\n",
    "    main()"
   ]
  },
  {
   "cell_type": "code",
   "execution_count": null,
   "id": "366cd82a-18b3-42b1-8d3e-b1a354925fe8",
   "metadata": {},
   "outputs": [],
   "source": []
  }
 ],
 "metadata": {
  "kernelspec": {
   "display_name": "Python [conda env:base] *",
   "language": "python",
   "name": "conda-base-py"
  },
  "language_info": {
   "codemirror_mode": {
    "name": "ipython",
    "version": 3
   },
   "file_extension": ".py",
   "mimetype": "text/x-python",
   "name": "python",
   "nbconvert_exporter": "python",
   "pygments_lexer": "ipython3",
   "version": "3.12.7"
  }
 },
 "nbformat": 4,
 "nbformat_minor": 5
}
